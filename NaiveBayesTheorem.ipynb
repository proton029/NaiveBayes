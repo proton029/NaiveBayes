{
 "cells": [
  {
   "cell_type": "code",
   "execution_count": 3,
   "id": "a44f9857",
   "metadata": {},
   "outputs": [],
   "source": [
    "with open('One.txt') as mytext:\n",
    "    words_one = mytext.read().lower().split()"
   ]
  },
  {
   "cell_type": "code",
   "execution_count": 6,
   "id": "6ef511aa",
   "metadata": {},
   "outputs": [],
   "source": [
    "uniq_words_one = set(words_one)"
   ]
  },
  {
   "cell_type": "code",
   "execution_count": 7,
   "id": "8f471ad0",
   "metadata": {},
   "outputs": [
    {
     "data": {
      "text/plain": [
       "{'a',\n",
       " 'about',\n",
       " 'animals',\n",
       " 'are',\n",
       " 'canine',\n",
       " 'dogs',\n",
       " 'furry',\n",
       " 'is',\n",
       " 'our',\n",
       " 'pets',\n",
       " 'story',\n",
       " 'this'}"
      ]
     },
     "execution_count": 7,
     "metadata": {},
     "output_type": "execute_result"
    }
   ],
   "source": [
    "uniq_words"
   ]
  },
  {
   "cell_type": "code",
   "execution_count": 8,
   "id": "4f0148c2",
   "metadata": {},
   "outputs": [],
   "source": [
    "with open('Two.txt') as mytext:\n",
    "    words_two = mytext.read().lower().split()\n",
    "    uniq_words_two=set(words_two)"
   ]
  },
  {
   "cell_type": "code",
   "execution_count": 9,
   "id": "b5e60455",
   "metadata": {},
   "outputs": [
    {
     "data": {
      "text/plain": [
       "{'a',\n",
       " 'about',\n",
       " 'catching',\n",
       " 'fun',\n",
       " 'is',\n",
       " 'popular',\n",
       " 'sport',\n",
       " 'story',\n",
       " 'surfing',\n",
       " 'this',\n",
       " 'water',\n",
       " 'waves'}"
      ]
     },
     "execution_count": 9,
     "metadata": {},
     "output_type": "execute_result"
    }
   ],
   "source": [
    "uniq_words_two"
   ]
  },
  {
   "cell_type": "code",
   "execution_count": 10,
   "id": "589b6abd",
   "metadata": {},
   "outputs": [],
   "source": [
    "all_uniq_words = set()\n",
    "all_uniq_words.update(uniq_words_one)"
   ]
  },
  {
   "cell_type": "code",
   "execution_count": 11,
   "id": "b266cb9f",
   "metadata": {},
   "outputs": [],
   "source": [
    "all_uniq_words.update(uniq_words_two)"
   ]
  },
  {
   "cell_type": "code",
   "execution_count": 12,
   "id": "7d5ed6c9",
   "metadata": {},
   "outputs": [
    {
     "data": {
      "text/plain": [
       "{'a',\n",
       " 'about',\n",
       " 'animals',\n",
       " 'are',\n",
       " 'canine',\n",
       " 'catching',\n",
       " 'dogs',\n",
       " 'fun',\n",
       " 'furry',\n",
       " 'is',\n",
       " 'our',\n",
       " 'pets',\n",
       " 'popular',\n",
       " 'sport',\n",
       " 'story',\n",
       " 'surfing',\n",
       " 'this',\n",
       " 'water',\n",
       " 'waves'}"
      ]
     },
     "execution_count": 12,
     "metadata": {},
     "output_type": "execute_result"
    }
   ],
   "source": [
    "all_uniq_words"
   ]
  },
  {
   "cell_type": "code",
   "execution_count": 13,
   "id": "51a9c0e2",
   "metadata": {},
   "outputs": [],
   "source": [
    "full_vocab = dict()\n",
    "i=0\n",
    "\n",
    "for words in all_uniq_words:\n",
    "    full_vocab[words] = i\n",
    "    i+=1\n",
    "    "
   ]
  },
  {
   "cell_type": "code",
   "execution_count": 14,
   "id": "7c8fe17e",
   "metadata": {},
   "outputs": [
    {
     "data": {
      "text/plain": [
       "{'our': 0,\n",
       " 'canine': 1,\n",
       " 'animals': 2,\n",
       " 'catching': 3,\n",
       " 'are': 4,\n",
       " 'is': 5,\n",
       " 'story': 6,\n",
       " 'dogs': 7,\n",
       " 'sport': 8,\n",
       " 'surfing': 9,\n",
       " 'fun': 10,\n",
       " 'this': 11,\n",
       " 'water': 12,\n",
       " 'pets': 13,\n",
       " 'about': 14,\n",
       " 'furry': 15,\n",
       " 'a': 16,\n",
       " 'waves': 17,\n",
       " 'popular': 18}"
      ]
     },
     "execution_count": 14,
     "metadata": {},
     "output_type": "execute_result"
    }
   ],
   "source": [
    "full_vocab"
   ]
  },
  {
   "cell_type": "code",
   "execution_count": 15,
   "id": "9a655a14",
   "metadata": {},
   "outputs": [],
   "source": [
    "one_freq = [0]*len(full_vocab)\n",
    "two_freq = [0]*len(full_vocab)\n",
    "all_words = ['']*len(full_vocab)"
   ]
  },
  {
   "cell_type": "code",
   "execution_count": 17,
   "id": "7bdfb812",
   "metadata": {},
   "outputs": [],
   "source": [
    "with open('One.txt') as f:\n",
    "    one_text = f.read().lower().split()\n",
    "    "
   ]
  },
  {
   "cell_type": "code",
   "execution_count": 19,
   "id": "dcefd128",
   "metadata": {},
   "outputs": [],
   "source": [
    "for word in one_text:\n",
    "    word_index = full_vocab[word]\n",
    "    one_freq[word_index] += 1"
   ]
  },
  {
   "cell_type": "code",
   "execution_count": 20,
   "id": "5469dd20",
   "metadata": {},
   "outputs": [
    {
     "data": {
      "text/plain": [
       "[1, 1, 1, 0, 1, 1, 1, 2, 0, 0, 0, 1, 0, 1, 1, 1, 1, 0, 0]"
      ]
     },
     "execution_count": 20,
     "metadata": {},
     "output_type": "execute_result"
    }
   ],
   "source": [
    "one_freq"
   ]
  },
  {
   "cell_type": "code",
   "execution_count": 22,
   "id": "d43cff53",
   "metadata": {},
   "outputs": [],
   "source": [
    "with open('Two.txt') as f:\n",
    "    two_text = f.read().lower().split()"
   ]
  },
  {
   "cell_type": "code",
   "execution_count": 23,
   "id": "e37e6961",
   "metadata": {},
   "outputs": [],
   "source": [
    "for word in two_text:\n",
    "    word_index = full_vocab[word]\n",
    "    two_freq[word_index] += 1"
   ]
  },
  {
   "cell_type": "code",
   "execution_count": 24,
   "id": "e1e118d9",
   "metadata": {},
   "outputs": [
    {
     "data": {
      "text/plain": [
       "[0, 0, 0, 1, 0, 3, 1, 0, 1, 2, 1, 1, 1, 0, 1, 0, 1, 1, 1]"
      ]
     },
     "execution_count": 24,
     "metadata": {},
     "output_type": "execute_result"
    }
   ],
   "source": [
    "two_freq"
   ]
  },
  {
   "cell_type": "code",
   "execution_count": 25,
   "id": "6539560d",
   "metadata": {},
   "outputs": [],
   "source": [
    "for word in full_vocab:\n",
    "    word_ind = full_vocab[word]\n",
    "    all_words[word_ind] = word"
   ]
  },
  {
   "cell_type": "code",
   "execution_count": 26,
   "id": "f70becda",
   "metadata": {},
   "outputs": [
    {
     "data": {
      "text/plain": [
       "['our',\n",
       " 'canine',\n",
       " 'animals',\n",
       " 'catching',\n",
       " 'are',\n",
       " 'is',\n",
       " 'story',\n",
       " 'dogs',\n",
       " 'sport',\n",
       " 'surfing',\n",
       " 'fun',\n",
       " 'this',\n",
       " 'water',\n",
       " 'pets',\n",
       " 'about',\n",
       " 'furry',\n",
       " 'a',\n",
       " 'waves',\n",
       " 'popular']"
      ]
     },
     "execution_count": 26,
     "metadata": {},
     "output_type": "execute_result"
    }
   ],
   "source": [
    "all_words"
   ]
  },
  {
   "cell_type": "code",
   "execution_count": 28,
   "id": "a282d1bf",
   "metadata": {},
   "outputs": [],
   "source": [
    "import pandas as pd\n",
    "Bow = pd.DataFrame(data = [one_freq,two_freq],columns = all_words)"
   ]
  },
  {
   "cell_type": "code",
   "execution_count": 29,
   "id": "2b0f7d1a",
   "metadata": {},
   "outputs": [
    {
     "data": {
      "text/html": [
       "<div>\n",
       "<style scoped>\n",
       "    .dataframe tbody tr th:only-of-type {\n",
       "        vertical-align: middle;\n",
       "    }\n",
       "\n",
       "    .dataframe tbody tr th {\n",
       "        vertical-align: top;\n",
       "    }\n",
       "\n",
       "    .dataframe thead th {\n",
       "        text-align: right;\n",
       "    }\n",
       "</style>\n",
       "<table border=\"1\" class=\"dataframe\">\n",
       "  <thead>\n",
       "    <tr style=\"text-align: right;\">\n",
       "      <th></th>\n",
       "      <th>our</th>\n",
       "      <th>canine</th>\n",
       "      <th>animals</th>\n",
       "      <th>catching</th>\n",
       "      <th>are</th>\n",
       "      <th>is</th>\n",
       "      <th>story</th>\n",
       "      <th>dogs</th>\n",
       "      <th>sport</th>\n",
       "      <th>surfing</th>\n",
       "      <th>fun</th>\n",
       "      <th>this</th>\n",
       "      <th>water</th>\n",
       "      <th>pets</th>\n",
       "      <th>about</th>\n",
       "      <th>furry</th>\n",
       "      <th>a</th>\n",
       "      <th>waves</th>\n",
       "      <th>popular</th>\n",
       "    </tr>\n",
       "  </thead>\n",
       "  <tbody>\n",
       "    <tr>\n",
       "      <th>0</th>\n",
       "      <td>1</td>\n",
       "      <td>1</td>\n",
       "      <td>1</td>\n",
       "      <td>0</td>\n",
       "      <td>1</td>\n",
       "      <td>1</td>\n",
       "      <td>1</td>\n",
       "      <td>2</td>\n",
       "      <td>0</td>\n",
       "      <td>0</td>\n",
       "      <td>0</td>\n",
       "      <td>1</td>\n",
       "      <td>0</td>\n",
       "      <td>1</td>\n",
       "      <td>1</td>\n",
       "      <td>1</td>\n",
       "      <td>1</td>\n",
       "      <td>0</td>\n",
       "      <td>0</td>\n",
       "    </tr>\n",
       "    <tr>\n",
       "      <th>1</th>\n",
       "      <td>0</td>\n",
       "      <td>0</td>\n",
       "      <td>0</td>\n",
       "      <td>1</td>\n",
       "      <td>0</td>\n",
       "      <td>3</td>\n",
       "      <td>1</td>\n",
       "      <td>0</td>\n",
       "      <td>1</td>\n",
       "      <td>2</td>\n",
       "      <td>1</td>\n",
       "      <td>1</td>\n",
       "      <td>1</td>\n",
       "      <td>0</td>\n",
       "      <td>1</td>\n",
       "      <td>0</td>\n",
       "      <td>1</td>\n",
       "      <td>1</td>\n",
       "      <td>1</td>\n",
       "    </tr>\n",
       "  </tbody>\n",
       "</table>\n",
       "</div>"
      ],
      "text/plain": [
       "   our  canine  animals  catching  are  is  story  dogs  sport  surfing  fun  \\\n",
       "0    1       1        1         0    1   1      1     2      0        0    0   \n",
       "1    0       0        0         1    0   3      1     0      1        2    1   \n",
       "\n",
       "   this  water  pets  about  furry  a  waves  popular  \n",
       "0     1      0     1      1      1  1      0        0  \n",
       "1     1      1     0      1      0  1      1        1  "
      ]
     },
     "execution_count": 29,
     "metadata": {},
     "output_type": "execute_result"
    }
   ],
   "source": [
    "Bow"
   ]
  },
  {
   "cell_type": "markdown",
   "id": "124bdb4d",
   "metadata": {},
   "source": [
    "Is a frequency count of all the words in the document(Bow => bag of words)"
   ]
  },
  {
   "cell_type": "code",
   "execution_count": null,
   "id": "f3b8e811",
   "metadata": {},
   "outputs": [],
   "source": []
  }
 ],
 "metadata": {
  "kernelspec": {
   "display_name": "Python 3 (ipykernel)",
   "language": "python",
   "name": "python3"
  },
  "language_info": {
   "codemirror_mode": {
    "name": "ipython",
    "version": 3
   },
   "file_extension": ".py",
   "mimetype": "text/x-python",
   "name": "python",
   "nbconvert_exporter": "python",
   "pygments_lexer": "ipython3",
   "version": "3.9.7"
  }
 },
 "nbformat": 4,
 "nbformat_minor": 5
}
