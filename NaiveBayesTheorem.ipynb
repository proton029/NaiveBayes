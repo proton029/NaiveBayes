{
 "cells": [
  {
   "cell_type": "code",
   "execution_count": 3,
   "id": "130a3ea9",
   "metadata": {},
   "outputs": [],
   "source": [
    "with open('One.txt') as mytext:\n",
    "    words_one = mytext.read().lower().split()"
   ]
  },
  {
   "cell_type": "code",
   "execution_count": 6,
   "id": "d60d25b8",
   "metadata": {},
   "outputs": [],
   "source": [
    "uniq_words_one = set(words_one)"
   ]
  },
  {
   "cell_type": "code",
   "execution_count": 7,
   "id": "a5e886f1",
   "metadata": {},
   "outputs": [
    {
     "data": {
      "text/plain": [
       "{'a',\n",
       " 'about',\n",
       " 'animals',\n",
       " 'are',\n",
       " 'canine',\n",
       " 'dogs',\n",
       " 'furry',\n",
       " 'is',\n",
       " 'our',\n",
       " 'pets',\n",
       " 'story',\n",
       " 'this'}"
      ]
     },
     "execution_count": 7,
     "metadata": {},
     "output_type": "execute_result"
    }
   ],
   "source": [
    "uniq_words"
   ]
  },
  {
   "cell_type": "code",
   "execution_count": 8,
   "id": "f085e18d",
   "metadata": {},
   "outputs": [],
   "source": [
    "with open('Two.txt') as mytext:\n",
    "    words_two = mytext.read().lower().split()\n",
    "    uniq_words_two=set(words_two)"
   ]
  },
  {
   "cell_type": "code",
   "execution_count": 9,
   "id": "a62d5317",
   "metadata": {},
   "outputs": [
    {
     "data": {
      "text/plain": [
       "{'a',\n",
       " 'about',\n",
       " 'catching',\n",
       " 'fun',\n",
       " 'is',\n",
       " 'popular',\n",
       " 'sport',\n",
       " 'story',\n",
       " 'surfing',\n",
       " 'this',\n",
       " 'water',\n",
       " 'waves'}"
      ]
     },
     "execution_count": 9,
     "metadata": {},
     "output_type": "execute_result"
    }
   ],
   "source": [
    "uniq_words_two"
   ]
  },
  {
   "cell_type": "code",
   "execution_count": 10,
   "id": "bf7016b8",
   "metadata": {},
   "outputs": [],
   "source": [
    "all_uniq_words = set()\n",
    "all_uniq_words.update(uniq_words_one)"
   ]
  },
  {
   "cell_type": "code",
   "execution_count": 11,
   "id": "dbbf34a6",
   "metadata": {},
   "outputs": [],
   "source": [
    "all_uniq_words.update(uniq_words_two)"
   ]
  },
  {
   "cell_type": "code",
   "execution_count": 12,
   "id": "d7fbfd6a",
   "metadata": {},
   "outputs": [
    {
     "data": {
      "text/plain": [
       "{'a',\n",
       " 'about',\n",
       " 'animals',\n",
       " 'are',\n",
       " 'canine',\n",
       " 'catching',\n",
       " 'dogs',\n",
       " 'fun',\n",
       " 'furry',\n",
       " 'is',\n",
       " 'our',\n",
       " 'pets',\n",
       " 'popular',\n",
       " 'sport',\n",
       " 'story',\n",
       " 'surfing',\n",
       " 'this',\n",
       " 'water',\n",
       " 'waves'}"
      ]
     },
     "execution_count": 12,
     "metadata": {},
     "output_type": "execute_result"
    }
   ],
   "source": [
    "all_uniq_words"
   ]
  },
  {
   "cell_type": "code",
   "execution_count": 13,
   "id": "db073fdc",
   "metadata": {},
   "outputs": [],
   "source": [
    "full_vocab = dict()\n",
    "i=0\n",
    "\n",
    "for words in all_uniq_words:\n",
    "    full_vocab[words] = i\n",
    "    i+=1\n",
    "    "
   ]
  },
  {
   "cell_type": "code",
   "execution_count": 14,
   "id": "2c1cb7de",
   "metadata": {},
   "outputs": [
    {
     "data": {
      "text/plain": [
       "{'our': 0,\n",
       " 'canine': 1,\n",
       " 'animals': 2,\n",
       " 'catching': 3,\n",
       " 'are': 4,\n",
       " 'is': 5,\n",
       " 'story': 6,\n",
       " 'dogs': 7,\n",
       " 'sport': 8,\n",
       " 'surfing': 9,\n",
       " 'fun': 10,\n",
       " 'this': 11,\n",
       " 'water': 12,\n",
       " 'pets': 13,\n",
       " 'about': 14,\n",
       " 'furry': 15,\n",
       " 'a': 16,\n",
       " 'waves': 17,\n",
       " 'popular': 18}"
      ]
     },
     "execution_count": 14,
     "metadata": {},
     "output_type": "execute_result"
    }
   ],
   "source": [
    "full_vocab"
   ]
  },
  {
   "cell_type": "code",
   "execution_count": 15,
   "id": "9a8d3f2f",
   "metadata": {},
   "outputs": [],
   "source": [
    "one_freq = [0]*len(full_vocab)\n",
    "two_freq = [0]*len(full_vocab)\n",
    "all_words = ['']*len(full_vocab)"
   ]
  },
  {
   "cell_type": "code",
   "execution_count": 17,
   "id": "99033363",
   "metadata": {},
   "outputs": [],
   "source": [
    "with open('One.txt') as f:\n",
    "    one_text = f.read().lower().split()\n",
    "    "
   ]
  },
  {
   "cell_type": "code",
   "execution_count": 19,
   "id": "ecac94fd",
   "metadata": {},
   "outputs": [],
   "source": [
    "for word in one_text:\n",
    "    word_index = full_vocab[word]\n",
    "    one_freq[word_index] += 1"
   ]
  },
  {
   "cell_type": "code",
   "execution_count": 20,
   "id": "6317094d",
   "metadata": {},
   "outputs": [
    {
     "data": {
      "text/plain": [
       "[1, 1, 1, 0, 1, 1, 1, 2, 0, 0, 0, 1, 0, 1, 1, 1, 1, 0, 0]"
      ]
     },
     "execution_count": 20,
     "metadata": {},
     "output_type": "execute_result"
    }
   ],
   "source": [
    "one_freq"
   ]
  },
  {
   "cell_type": "code",
   "execution_count": 22,
   "id": "8f34b996",
   "metadata": {},
   "outputs": [],
   "source": [
    "with open('Two.txt') as f:\n",
    "    two_text = f.read().lower().split()"
   ]
  },
  {
   "cell_type": "code",
   "execution_count": 23,
   "id": "5e88baa1",
   "metadata": {},
   "outputs": [],
   "source": [
    "for word in two_text:\n",
    "    word_index = full_vocab[word]\n",
    "    two_freq[word_index] += 1"
   ]
  },
  {
   "cell_type": "code",
   "execution_count": 24,
   "id": "9118b554",
   "metadata": {},
   "outputs": [
    {
     "data": {
      "text/plain": [
       "[0, 0, 0, 1, 0, 3, 1, 0, 1, 2, 1, 1, 1, 0, 1, 0, 1, 1, 1]"
      ]
     },
     "execution_count": 24,
     "metadata": {},
     "output_type": "execute_result"
    }
   ],
   "source": [
    "two_freq"
   ]
  },
  {
   "cell_type": "code",
   "execution_count": 25,
   "id": "55488a9d",
   "metadata": {},
   "outputs": [],
   "source": [
    "for word in full_vocab:\n",
    "    word_ind = full_vocab[word]\n",
    "    all_words[word_ind] = word"
   ]
  },
  {
   "cell_type": "code",
   "execution_count": 26,
   "id": "199a54cb",
   "metadata": {},
   "outputs": [
    {
     "data": {
      "text/plain": [
       "['our',\n",
       " 'canine',\n",
       " 'animals',\n",
       " 'catching',\n",
       " 'are',\n",
       " 'is',\n",
       " 'story',\n",
       " 'dogs',\n",
       " 'sport',\n",
       " 'surfing',\n",
       " 'fun',\n",
       " 'this',\n",
       " 'water',\n",
       " 'pets',\n",
       " 'about',\n",
       " 'furry',\n",
       " 'a',\n",
       " 'waves',\n",
       " 'popular']"
      ]
     },
     "execution_count": 26,
     "metadata": {},
     "output_type": "execute_result"
    }
   ],
   "source": [
    "all_words"
   ]
  },
  {
   "cell_type": "code",
   "execution_count": 28,
   "id": "ce56a4aa",
   "metadata": {},
   "outputs": [],
   "source": [
    "import pandas as pd\n",
    "Bow = pd.DataFrame(data = [one_freq,two_freq],columns = all_words)"
   ]
  },
  {
   "cell_type": "code",
   "execution_count": 29,
   "id": "7107494e",
   "metadata": {},
   "outputs": [
    {
     "data": {
      "text/html": [
       "<div>\n",
       "<style scoped>\n",
       "    .dataframe tbody tr th:only-of-type {\n",
       "        vertical-align: middle;\n",
       "    }\n",
       "\n",
       "    .dataframe tbody tr th {\n",
       "        vertical-align: top;\n",
       "    }\n",
       "\n",
       "    .dataframe thead th {\n",
       "        text-align: right;\n",
       "    }\n",
       "</style>\n",
       "<table border=\"1\" class=\"dataframe\">\n",
       "  <thead>\n",
       "    <tr style=\"text-align: right;\">\n",
       "      <th></th>\n",
       "      <th>our</th>\n",
       "      <th>canine</th>\n",
       "      <th>animals</th>\n",
       "      <th>catching</th>\n",
       "      <th>are</th>\n",
       "      <th>is</th>\n",
       "      <th>story</th>\n",
       "      <th>dogs</th>\n",
       "      <th>sport</th>\n",
       "      <th>surfing</th>\n",
       "      <th>fun</th>\n",
       "      <th>this</th>\n",
       "      <th>water</th>\n",
       "      <th>pets</th>\n",
       "      <th>about</th>\n",
       "      <th>furry</th>\n",
       "      <th>a</th>\n",
       "      <th>waves</th>\n",
       "      <th>popular</th>\n",
       "    </tr>\n",
       "  </thead>\n",
       "  <tbody>\n",
       "    <tr>\n",
       "      <th>0</th>\n",
       "      <td>1</td>\n",
       "      <td>1</td>\n",
       "      <td>1</td>\n",
       "      <td>0</td>\n",
       "      <td>1</td>\n",
       "      <td>1</td>\n",
       "      <td>1</td>\n",
       "      <td>2</td>\n",
       "      <td>0</td>\n",
       "      <td>0</td>\n",
       "      <td>0</td>\n",
       "      <td>1</td>\n",
       "      <td>0</td>\n",
       "      <td>1</td>\n",
       "      <td>1</td>\n",
       "      <td>1</td>\n",
       "      <td>1</td>\n",
       "      <td>0</td>\n",
       "      <td>0</td>\n",
       "    </tr>\n",
       "    <tr>\n",
       "      <th>1</th>\n",
       "      <td>0</td>\n",
       "      <td>0</td>\n",
       "      <td>0</td>\n",
       "      <td>1</td>\n",
       "      <td>0</td>\n",
       "      <td>3</td>\n",
       "      <td>1</td>\n",
       "      <td>0</td>\n",
       "      <td>1</td>\n",
       "      <td>2</td>\n",
       "      <td>1</td>\n",
       "      <td>1</td>\n",
       "      <td>1</td>\n",
       "      <td>0</td>\n",
       "      <td>1</td>\n",
       "      <td>0</td>\n",
       "      <td>1</td>\n",
       "      <td>1</td>\n",
       "      <td>1</td>\n",
       "    </tr>\n",
       "  </tbody>\n",
       "</table>\n",
       "</div>"
      ],
      "text/plain": [
       "   our  canine  animals  catching  are  is  story  dogs  sport  surfing  fun  \\\n",
       "0    1       1        1         0    1   1      1     2      0        0    0   \n",
       "1    0       0        0         1    0   3      1     0      1        2    1   \n",
       "\n",
       "   this  water  pets  about  furry  a  waves  popular  \n",
       "0     1      0     1      1      1  1      0        0  \n",
       "1     1      1     0      1      0  1      1        1  "
      ]
     },
     "execution_count": 29,
     "metadata": {},
     "output_type": "execute_result"
    }
   ],
   "source": [
    "Bow"
   ]
  },
  {
   "cell_type": "markdown",
   "id": "578706ad",
   "metadata": {},
   "source": [
    "Is a frequency count of all the words in the document(Bow => bag of words)"
   ]
  },
  {
   "cell_type": "markdown",
   "id": "dcd59245",
   "metadata": {},
   "source": [
    "## Utilizing Scikit-learn(count vectorizer, TF-IDF transformer and TF_IDF vectorizer)"
   ]
  },
  {
   "cell_type": "code",
   "execution_count": 30,
   "id": "3e5548a5",
   "metadata": {},
   "outputs": [],
   "source": [
    "text = ['this is a line', 'This is another line','completely different line']"
   ]
  },
  {
   "cell_type": "code",
   "execution_count": 41,
   "id": "b5f82eeb",
   "metadata": {},
   "outputs": [],
   "source": [
    "from sklearn.feature_extraction.text import CountVectorizer, TfidfTransformer"
   ]
  },
  {
   "cell_type": "markdown",
   "id": "e96f5b99",
   "metadata": {},
   "source": [
    "Count vectorizer basically counts up all the words in the document which we did previously with manual effort"
   ]
  },
  {
   "cell_type": "code",
   "execution_count": 44,
   "id": "20623056",
   "metadata": {},
   "outputs": [],
   "source": [
    "cv = CountVectorizer()"
   ]
  },
  {
   "cell_type": "code",
   "execution_count": 45,
   "id": "20d62873",
   "metadata": {},
   "outputs": [],
   "source": [
    "sparse_mat = cv.fit_transform(text)"
   ]
  },
  {
   "cell_type": "markdown",
   "id": "b68fe88d",
   "metadata": {},
   "source": [
    "This will treat each element in the 'text' list as a document"
   ]
  },
  {
   "cell_type": "code",
   "execution_count": 46,
   "id": "70c8a441",
   "metadata": {},
   "outputs": [
    {
     "data": {
      "text/plain": [
       "matrix([[0, 0, 0, 1, 1, 1],\n",
       "        [1, 0, 0, 1, 1, 1],\n",
       "        [0, 1, 1, 0, 1, 0]])"
      ]
     },
     "execution_count": 46,
     "metadata": {},
     "output_type": "execute_result"
    }
   ],
   "source": [
    "sparse_mat.todense()"
   ]
  },
  {
   "cell_type": "code",
   "execution_count": 47,
   "id": "3892f712",
   "metadata": {},
   "outputs": [
    {
     "data": {
      "text/plain": [
       "{'this': 5, 'is': 3, 'line': 4, 'another': 0, 'completely': 1, 'different': 2}"
      ]
     },
     "execution_count": 47,
     "metadata": {},
     "output_type": "execute_result"
    }
   ],
   "source": [
    "cv.vocabulary_"
   ]
  },
  {
   "cell_type": "markdown",
   "id": "f20f7876",
   "metadata": {},
   "source": [
    "basically the matrix holds the indexes of each words"
   ]
  },
  {
   "cell_type": "code",
   "execution_count": 48,
   "id": "dce59999",
   "metadata": {},
   "outputs": [],
   "source": [
    "tfidf = TfidfTransformer()"
   ]
  },
  {
   "cell_type": "code",
   "execution_count": 49,
   "id": "e87b1011",
   "metadata": {},
   "outputs": [
    {
     "data": {
      "text/plain": [
       "<3x6 sparse matrix of type '<class 'numpy.int64'>'\n",
       "\twith 10 stored elements in Compressed Sparse Row format>"
      ]
     },
     "execution_count": 49,
     "metadata": {},
     "output_type": "execute_result"
    }
   ],
   "source": [
    "sparse_mat"
   ]
  },
  {
   "cell_type": "code",
   "execution_count": 50,
   "id": "d6cc9726",
   "metadata": {},
   "outputs": [],
   "source": [
    "results = tfidf.fit_transform(sparse_mat) #BOW --->TF-IDF "
   ]
  },
  {
   "cell_type": "code",
   "execution_count": 51,
   "id": "cd999403",
   "metadata": {},
   "outputs": [
    {
     "data": {
      "text/plain": [
       "<3x6 sparse matrix of type '<class 'numpy.float64'>'\n",
       "\twith 10 stored elements in Compressed Sparse Row format>"
      ]
     },
     "execution_count": 51,
     "metadata": {},
     "output_type": "execute_result"
    }
   ],
   "source": [
    "results"
   ]
  },
  {
   "cell_type": "code",
   "execution_count": 52,
   "id": "de7bc6d3",
   "metadata": {},
   "outputs": [
    {
     "data": {
      "text/plain": [
       "matrix([[0.        , 0.        , 0.        , 0.61980538, 0.48133417,\n",
       "         0.61980538],\n",
       "        [0.63174505, 0.        , 0.        , 0.4804584 , 0.37311881,\n",
       "         0.4804584 ],\n",
       "        [0.        , 0.65249088, 0.65249088, 0.        , 0.38537163,\n",
       "         0.        ]])"
      ]
     },
     "execution_count": 52,
     "metadata": {},
     "output_type": "execute_result"
    }
   ],
   "source": [
    "results.todense()"
   ]
  },
  {
   "cell_type": "markdown",
   "id": "5b6f199f",
   "metadata": {},
   "source": [
    "### We can do the above in one go with the TF-IDF vectorizer"
   ]
  },
  {
   "cell_type": "code",
   "execution_count": 53,
   "id": "17f04785",
   "metadata": {},
   "outputs": [],
   "source": [
    "from sklearn.feature_extraction.text import TfidfVectorizer"
   ]
  },
  {
   "cell_type": "code",
   "execution_count": 54,
   "id": "787bfc71",
   "metadata": {},
   "outputs": [],
   "source": [
    "tv = TfidfVectorizer()"
   ]
  },
  {
   "cell_type": "code",
   "execution_count": 55,
   "id": "9eb8bd03",
   "metadata": {},
   "outputs": [
    {
     "data": {
      "text/plain": [
       "<3x6 sparse matrix of type '<class 'numpy.float64'>'\n",
       "\twith 10 stored elements in Compressed Sparse Row format>"
      ]
     },
     "execution_count": 55,
     "metadata": {},
     "output_type": "execute_result"
    }
   ],
   "source": [
    "tv.fit_transform(text)"
   ]
  },
  {
   "cell_type": "code",
   "execution_count": null,
   "id": "384085a5",
   "metadata": {},
   "outputs": [],
   "source": [
    "tv."
   ]
  }
 ],
 "metadata": {
  "kernelspec": {
   "display_name": "Python 3 (ipykernel)",
   "language": "python",
   "name": "python3"
  },
  "language_info": {
   "codemirror_mode": {
    "name": "ipython",
    "version": 3
   },
   "file_extension": ".py",
   "mimetype": "text/x-python",
   "name": "python",
   "nbconvert_exporter": "python",
   "pygments_lexer": "ipython3",
   "version": "3.9.7"
  }
 },
 "nbformat": 4,
 "nbformat_minor": 5
}
